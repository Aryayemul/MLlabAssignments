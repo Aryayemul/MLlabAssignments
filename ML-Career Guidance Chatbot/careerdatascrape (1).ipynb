{
 "cells": [
  {
   "cell_type": "code",
   "execution_count": 7,
   "id": "38b910f6-49c9-4527-bd2d-089478a74ac4",
   "metadata": {},
   "outputs": [
    {
     "name": "stdout",
     "output_type": "stream",
     "text": [
      "Collecting html5lib\n",
      "  Downloading html5lib-1.1-py2.py3-none-any.whl.metadata (16 kB)\n",
      "Requirement already satisfied: six>=1.9 in c:\\users\\dell\\anaconda3\\lib\\site-packages (from html5lib) (1.16.0)\n",
      "Requirement already satisfied: webencodings in c:\\users\\dell\\anaconda3\\lib\\site-packages (from html5lib) (0.5.1)\n",
      "Downloading html5lib-1.1-py2.py3-none-any.whl (112 kB)\n",
      "Installing collected packages: html5lib\n",
      "Successfully installed html5lib-1.1\n"
     ]
    }
   ],
   "source": [
    "! pip install html5lib\n"
   ]
  },
  {
   "cell_type": "code",
   "execution_count": 47,
   "id": "92d0977e-6073-4583-9174-1ceb6cddf0c7",
   "metadata": {},
   "outputs": [],
   "source": [
    "from tqdm import tqdm \n",
    "\n",
    "def selection(entries: list[str]):\n",
    "    mods = []\n",
    "    for entry in tqdm(entries, total=len(entries)):\n",
    "        if len(entry.strip()) > 50:\n",
    "            continue \n",
    "        if \"/\" in entry:\n",
    "            mods.append(entry.split(\"/\")[0].strip())\n",
    "        else: \n",
    "            mods.append(entry.strip())\n",
    "    \n",
    "    mods = list(set(mods))\n",
    "    return mods"
   ]
  },
  {
   "cell_type": "code",
   "execution_count": 26,
   "id": "d7b677ff-c153-4bb0-8a46-7bb86b6fb03a",
   "metadata": {},
   "outputs": [],
   "source": [
    "import requests\n",
    "from bs4 import BeautifulSoup\n",
    "\n",
    "url = \"https://www.myplan.com/careers/browse-alphabetically.html?letter=all&sort=titles&page=all\"\n",
    "r = requests.get(url)\n",
    "\n",
    "soup = BeautifulSoup(r.content, 'html5lib')"
   ]
  },
  {
   "cell_type": "code",
   "execution_count": 48,
   "id": "713efaaf-82c7-4d2b-8afb-d656c84a76e1",
   "metadata": {},
   "outputs": [],
   "source": [
    "careers = soup.find('td', attrs={'class': 'box_table'}).findAll('a', attrs={'class': 'list-link'})"
   ]
  },
  {
   "cell_type": "code",
   "execution_count": 49,
   "id": "3ff73239-79f4-4975-ade4-2ee6ee222f5a",
   "metadata": {},
   "outputs": [],
   "source": [
    "records = {career.text: \"https://www.myplan.com\"+career['href'] for career in careers}"
   ]
  },
  {
   "cell_type": "code",
   "execution_count": 50,
   "id": "3a6e5727-afce-4941-b214-879ad6ee9702",
   "metadata": {},
   "outputs": [],
   "source": [
    "sample = records['Actors']"
   ]
  },
  {
   "cell_type": "code",
   "execution_count": 51,
   "id": "ef147af4-a07f-444c-a330-c09572d902d4",
   "metadata": {},
   "outputs": [
    {
     "data": {
      "text/plain": [
       "'https://www.myplan.com/careers/actors/summary-27-2011.00.html'"
      ]
     },
     "execution_count": 51,
     "metadata": {},
     "output_type": "execute_result"
    }
   ],
   "source": [
    "sample.split(\"?\")[0]"
   ]
  },
  {
   "cell_type": "code",
   "execution_count": 6,
   "id": "33c6e8a1-831b-4712-ad54-585632a953ee",
   "metadata": {},
   "outputs": [
    {
     "ename": "SyntaxError",
     "evalue": "invalid syntax (1378240498.py, line 1)",
     "output_type": "error",
     "traceback": [
      "\u001b[1;36m  Cell \u001b[1;32mIn[6], line 1\u001b[1;36m\u001b[0m\n\u001b[1;33m    https://www.myplan.com/careers/accountants/summary-13-2011.01.html\u001b[0m\n\u001b[1;37m          ^\u001b[0m\n\u001b[1;31mSyntaxError\u001b[0m\u001b[1;31m:\u001b[0m invalid syntax\n"
     ]
    }
   ],
   "source": [
    "https://www.myplan.com/careers/accountants/summary-13-2011.01.html"
   ]
  },
  {
   "cell_type": "code",
   "execution_count": 52,
   "id": "bd38bc10-2dc8-47bb-af27-197988893d68",
   "metadata": {},
   "outputs": [],
   "source": [
    "from requests.exceptions import SSLError\n",
    "\n",
    "tries = 0\n",
    "while tries != -1:\n",
    "    try:\n",
    "        response = requests.get(sample.split(\"?\")[0].replace(\"summary\", \"description\"))\n",
    "        tries = -1\n",
    "    except SSLError as e:\n",
    "        tries += 1"
   ]
  },
  {
   "cell_type": "code",
   "execution_count": 53,
   "id": "7a485208-9b50-4979-8050-c07a3c74d3ad",
   "metadata": {},
   "outputs": [],
   "source": [
    "soup1 = BeautifulSoup(response.content, 'html5lib')"
   ]
  },
  {
   "cell_type": "code",
   "execution_count": 54,
   "id": "233f46d1-140a-4dd3-bc0d-29d5e06a240b",
   "metadata": {},
   "outputs": [
    {
     "data": {
      "text/plain": [
       "'https://www.myplan.com/careers/actors/description-27-2011.00.html'"
      ]
     },
     "execution_count": 54,
     "metadata": {},
     "output_type": "execute_result"
    }
   ],
   "source": [
    "\n",
    "sample.split(\"?\")[0].replace(\"summary\", \"description\")"
   ]
  },
  {
   "cell_type": "code",
   "execution_count": 55,
   "id": "62529969-6d83-4da2-b192-dd47b92322ff",
   "metadata": {},
   "outputs": [
    {
     "name": "stdout",
     "output_type": "stream",
     "text": [
      " | \n",
      " | Search:\n",
      "Existing\n",
      "Users\n",
      " Forgot your password? \n",
      "                                Click here\n",
      "New\n",
      "Users\n",
      "Featured\n",
      "Resources\n",
      "\n",
      "                 Actors               \n",
      "\n",
      "                 Actors               \n",
      "Summary\n",
      "  |  \n",
      "Description  |  \n",
      "Description\n",
      "  |  \n",
      "  |  \n",
      "  |  \n",
      "  |  \n",
      "Careers / Actors\n",
      "Summary Description\n",
      "\n",
      "                                          Play parts in stage, television, radio, video, motion picture productions, or other settings for entertainment, information, or instruction. Interpret serious or comic role by speech, gesture, and body movement to entertain or inform audience. May dance and sing.                                        \n",
      "Sample Job Titles\n",
      "Job Tasks\n",
      "Work Activities\n",
      "\n",
      "\n",
      "—\n",
      "                                                    Developing, designing, or creating new applications, ideas, relationships, systems, or products, including artistic contributions.                                                  \n",
      "—\n",
      "                                                    Developing constructive and cooperative working relationships with others, and maintaining them over time.                                                  \n",
      "—\n",
      "                                                    Performing for people or dealing directly with the public. This includes serving customers in restaurants and stores, and receiving clients or guests.                                                  \n",
      "—\n",
      "                                                    Observing, receiving, and otherwise obtaining information from all relevant sources.                                                  \n",
      "—\n",
      "                                                    Analyzing information and evaluating results to choose the best solution and solve problems.                                                  \n",
      "—\n",
      "                                                    Establishing long-range objectives and specifying the strategies and actions to achieve them.                                                  \n",
      "—\n",
      "                                                    Assessing the value, importance, or quality of things or people.                                                  \n",
      "—\n",
      "                                                    Developing specific goals and plans to prioritize, organize, and accomplish your work.                                                  \n",
      "—\n",
      "                                                    Providing information to supervisors, co-workers, and subordinates by telephone, in written form, e-mail, or in person.                                                  \n",
      "—\n",
      "                                                    Translating or explaining what information means and how it can be used.                                                  \n",
      "—\n",
      "                                                    Performing physical activities that require considerable use of your arms and legs and moving your whole body, such as climbing, lifting, balancing, walking, stooping, and handling of materials.                                                  \n",
      "—\n",
      "                                                    Scheduling events, programs, and activities, as well as the work of others.                                                  \n",
      "—\n",
      "                                                    Identifying information by categorizing, estimating, recognizing differences or similarities, and detecting changes in circumstances or events.                                                  \n",
      "—\n",
      "                                                    Encouraging and building mutual trust, respect, and cooperation among team members.                                                  \n",
      "—\n",
      "                                                    Communicating with people outside the organization, representing the organization to customers, the public, government, and other external sources. This information can be exchanged in person, in writing, or by telephone or e-mail.                                                  \n",
      "—\n",
      "                                                    Getting members of a group to work together to accomplish tasks.                                                  \n",
      "—\n",
      "                                                    Handling complaints, settling disputes, and resolving grievances and conflicts, or otherwise negotiating with others.                                                  \n",
      "—\n",
      "                                                    Entering, transcribing, recording, storing, or maintaining information in written or electronic/magnetic form.                                                  \n",
      "—\n",
      "                                                    Keeping up-to-date technically and applying new knowledge to your job.                                                  \n",
      "—\n",
      "                                                    Identifying the developmental needs of others and coaching, mentoring, or otherwise helping others to improve their knowledge or skills.                                                  \n",
      "—\n",
      "                                                    Monitoring and reviewing information from materials, events, or the environment, to detect or assess problems.                                                  \n",
      "—\n",
      "                                                    Identifying the educational needs of others, developing formal educational or training programs or classes, and teaching or instructing others.                                                  \n",
      "—\n",
      "                                                    Providing personal assistance, medical attention, emotional support, or other personal care to others such as coworkers, customers, or patients.                                                  \n",
      "—\n",
      "                                                    Using hands and arms in handling, installing, positioning, and moving materials, and manipulating things.                                                  \n",
      "—\n",
      "                                                    Convincing others to buy merchandise/goods or to otherwise change their minds or actions.                                                  \n",
      "—\n",
      "                                                    Identifying the underlying principles, reasons, or facts of information by breaking down information or data into separate parts.                                                  \n",
      "—\n",
      "                                                    Providing guidance and direction to subordinates, including setting performance standards and monitoring performance.                                                  \n",
      "Nature of the Work\n",
      "(Abstract from Career Articles)\n",
      "Actors express ideas and portray characters in theater, film, television, and other performing arts media. They interpret a writer's script to entertain or inform an audience.\n",
      "Working Conditions\n",
      "(Abstract from Career Articles)\n",
      "\n",
      "                                            Actors work in various settings, including production studios, theaters, theme parks, or on location. Work assignments are usually short, ranging from 1 day to a few months.\n",
      "Interesting Fact\n",
      "Only 70% of the total cost of employment in the U.S. goes to pay wages and salaries -- the rest goes to pay benefits and employment taxes.\n",
      "Did you know...\n",
      "The Salary Calculator reports average wages by career and by specific location!\n"
     ]
    }
   ],
   "source": [
    "for k in soup1.findAll(\"span\"):\n",
    "    print(k.text)"
   ]
  },
  {
   "cell_type": "code",
   "execution_count": 56,
   "id": "d282fe88-acee-4cc3-89b3-cc1f3b0d8a32",
   "metadata": {},
   "outputs": [],
   "source": [
    "from selenium import webdriver\n",
    "from selenium.webdriver.common.by import By\n",
    "from webdriver_manager.chrome import ChromeDriverManager"
   ]
  },
  {
   "cell_type": "code",
   "execution_count": 15,
   "id": "72053831-62df-4e2e-b5ed-56e8ed73e38a",
   "metadata": {},
   "outputs": [
    {
     "name": "stdout",
     "output_type": "stream",
     "text": [
      "Collecting webdriver_manager\n",
      "  Downloading webdriver_manager-4.0.2-py2.py3-none-any.whl.metadata (12 kB)\n",
      "Requirement already satisfied: requests in c:\\users\\dell\\anaconda3\\lib\\site-packages (from webdriver_manager) (2.32.3)\n",
      "Requirement already satisfied: python-dotenv in c:\\users\\dell\\anaconda3\\lib\\site-packages (from webdriver_manager) (0.21.0)\n",
      "Requirement already satisfied: packaging in c:\\users\\dell\\anaconda3\\lib\\site-packages (from webdriver_manager) (24.1)\n",
      "Requirement already satisfied: charset-normalizer<4,>=2 in c:\\users\\dell\\anaconda3\\lib\\site-packages (from requests->webdriver_manager) (3.3.2)\n",
      "Requirement already satisfied: idna<4,>=2.5 in c:\\users\\dell\\anaconda3\\lib\\site-packages (from requests->webdriver_manager) (3.7)\n",
      "Requirement already satisfied: urllib3<3,>=1.21.1 in c:\\users\\dell\\anaconda3\\lib\\site-packages (from requests->webdriver_manager) (2.2.3)\n",
      "Requirement already satisfied: certifi>=2017.4.17 in c:\\users\\dell\\anaconda3\\lib\\site-packages (from requests->webdriver_manager) (2025.1.31)\n",
      "Downloading webdriver_manager-4.0.2-py2.py3-none-any.whl (27 kB)\n",
      "Installing collected packages: webdriver_manager\n",
      "Successfully installed webdriver_manager-4.0.2\n"
     ]
    }
   ],
   "source": [
    "# ! pip install selenium\n",
    "! pip install webdriver_manager\n"
   ]
  },
  {
   "cell_type": "code",
   "execution_count": 57,
   "id": "6fac8e00-492b-4247-9637-39fd6d2962d1",
   "metadata": {},
   "outputs": [],
   "source": [
    "options = webdriver.ChromeOptions()\n",
    "options.add_argument('--ignore-ssl-errors=yes')\n",
    "options.add_argument('--ignore-certificate-errors')\n",
    "driver = webdriver.Chrome(options=options)"
   ]
  },
  {
   "cell_type": "code",
   "execution_count": 58,
   "id": "1de3bcb0-6df1-448a-aaa2-2e7ca19b0b51",
   "metadata": {},
   "outputs": [],
   "source": [
    "driver.get(sample.split(\"?\")[0].replace(\"summary\", \"description\"))\n",
    "element = driver.find_element(By.XPATH, \"/html/body/table/tbody/tr[2]/td/table/tbody/tr[2]/td/center/table/tbody/tr[1]/td[3]/table/tbody/tr[4]/td/table/tbody/tr[5]\")"
   ]
  },
  {
   "cell_type": "code",
   "execution_count": 59,
   "id": "6662afc9-a760-4d3f-8c75-e634fa527a36",
   "metadata": {},
   "outputs": [
    {
     "name": "stdout",
     "output_type": "stream",
     "text": [
      "  Summary Description\n",
      "Play parts in stage, television, radio, video, motion picture productions, or other settings for entertainment, information, or instruction. Interpret serious or comic role by speech, gesture, and body movement to entertain or inform audience. May dance and sing.\n",
      "  Sample Job Titles\n",
      "1.\n",
      "Acrobat\n",
      "2.\n",
      "Acting Teacher\n",
      "3.\n",
      "Actor\n",
      "4.\n",
      "Actor Understudy\n",
      "5.\n",
      "Actress\n",
      "6.\n",
      "Aerialist\n",
      "7.\n",
      "Amusement Park Entertainer\n",
      "8.\n",
      "Aquatic Performer\n",
      "9.\n",
      "Artistic Director\n",
      "10.\n",
      "Circus Clown\n",
      "11.\n",
      "Clown\n",
      "12.\n",
      "Comedian\n",
      "13.\n",
      "Comic\n",
      "14.\n",
      "Community Theater Actor\n",
      "15.\n",
      "Diver\n",
      "16.\n",
      "Double\n",
      "17.\n",
      "Dramatic Reader\n",
      "18.\n",
      "Elocutionist\n",
      "19.\n",
      "Ensemble Director\n",
      "20.\n",
      "Extra\n",
      "21.\n",
      "Illusionist\n",
      "22.\n",
      "Impersonator\n",
      "23.\n",
      "Impresario\n",
      "24.\n",
      "Juggler\n",
      "25.\n",
      "Magician\n",
      "26.\n",
      "Mime\n",
      "27.\n",
      "Minstrel\n",
      "28.\n",
      "Monologist\n",
      "29.\n",
      "Motion Picture Actor\n",
      "  30.\n",
      "Movie Actor\n",
      "31.\n",
      "Movie Extra\n",
      "32.\n",
      "Movie Star\n",
      "33.\n",
      "Movie Stunt Performer\n",
      "34.\n",
      "Narrator\n",
      "35.\n",
      "Performer\n",
      "36.\n",
      "Puppeteer\n",
      "37.\n",
      "Ring Conductor\n",
      "38.\n",
      "Second\n",
      "39.\n",
      "Show Girl\n",
      "40.\n",
      "Soubrette\n",
      "41.\n",
      "Stand Up Comedian\n",
      "42.\n",
      "Stand-In\n",
      "43.\n",
      "Stunt Double\n",
      "44.\n",
      "Stunt Driver\n",
      "45.\n",
      "Stunt Performer\n",
      "46.\n",
      "Stunt Person\n",
      "47.\n",
      "Stunt Woman\n",
      "48.\n",
      "Television Actor\n",
      "49.\n",
      "Theatre Ensemble Member\n",
      "50.\n",
      "Theatrical Performer\n",
      "51.\n",
      "Theatrical Trouper\n",
      "52.\n",
      "Thrill Performer\n",
      "53.\n",
      "Understudy\n",
      "54.\n",
      "Vaudeville Actor\n",
      "55.\n",
      "Ventriloquist\n",
      "56.\n",
      "Voice Actor\n",
      "57.\n",
      "Voice-Over Artist\n",
      "58.\n",
      "Wire Walker\n",
      "  Job Tasks\n",
      "Study and rehearse roles from scripts to interpret, learn and memorize lines, stunts, and cues as directed.\n",
      "Study scripts to determine project requirements.\n",
      "Practice athletic or artistic skills.\n",
      "Work closely with directors, other actors, and playwrights to find the interpretation most suited to the role.\n",
      "Collaborate with others to prepare or perform artistic productions.\n",
      "Learn about characters in scripts and their relationships to each other to develop role interpretations.\n",
      "Study scripts to determine project requirements.\n",
      "Collaborate with other actors as part of an ensemble.\n",
      "Collaborate with others to prepare or perform artistic productions.\n",
      "Perform humorous and serious interpretations of emotions, actions, and situations, using body movements, facial expressions, and gestures.\n",
      "Entertain public with comedic or dramatic performances.\n",
      "Attend auditions and casting calls to audition for roles.\n",
      "Audition for roles.\n",
      "Portray and interpret roles, using speech, gestures, and body movements, to entertain, inform, or instruct radio, film, television, or live audiences.\n",
      "Entertain public with comedic or dramatic performances.\n",
      "Work with other crew members responsible for lighting, costumes, make-up, and props.\n",
      "Collaborate with others to determine technical details of productions.\n",
      "Sing or dance during dramatic or comedic performances.\n",
      "Perform music for the public.\n",
      "Entertain public with comedic or dramatic performances.\n",
      "Write original or adapted material for dramas, comedies, puppet shows, narration, or other performances.\n",
      "Write material for artistic or entertainment purposes.\n",
      "Read from scripts or books to narrate action or to inform or entertain audiences, utilizing few or no stage props.\n",
      "Entertain public with comedic or dramatic performances.\n",
      "Promote productions using means such as interviews about plays or movies.\n",
      "Promote products, activities, or organizations.\n",
      "Prepare and perform action stunts for motion picture, television, or stage productions.\n",
      "Entertain public with comedic or dramatic performances.\n",
      "Tell jokes, perform comic dances, songs and skits, impersonate mannerisms and voices of others, contort face, and use other devices to amuse audiences.\n",
      "Entertain public with comedic or dramatic performances.\n",
      "Introduce performances and performers to stimulate excitement and coordinate smooth transition of acts during events.\n",
      "Inform viewers, listeners, or audiences.\n",
      "Manipulate strings, wires, rods, or fingers to animate puppets or dummies in synchronization with talking, singing, or recorded programs.\n",
      "Entertain public with comedic or dramatic performances.\n",
      "Dress in comical clown costumes and makeup, and perform comedy routines to entertain audiences.\n",
      "Entertain public with comedic or dramatic performances.\n",
      "Perform original and stock tricks of illusion to entertain and mystify audiences, occasionally including audience members as participants.\n",
      "Entertain public with comedic or dramatic performances.\n",
      "Construct puppets and ventriloquist dummies, and sew accessory clothing, using hand tools and machines.\n",
      "Construct distinctive physical objects for artistic, functional, or commercial purposes.\n",
      "  Work Activities\n",
      "Importance Work Activity\n",
      "95\n",
      "Thinking Creatively — Developing, designing, or creating new applications, ideas, relationships, systems, or products, including artistic contributions.\n",
      "88\n",
      "Establishing and Maintaining Interpersonal Relationships — Developing constructive and cooperative working relationships with others, and maintaining them over time.\n",
      "87\n",
      "Performing for or Working Directly with the Public — Performing for people or dealing directly with the public. This includes serving customers in restaurants and stores, and receiving clients or guests.\n",
      "76\n",
      "Getting Information — Observing, receiving, and otherwise obtaining information from all relevant sources.\n",
      "71\n",
      "Making Decisions and Solving Problems — Analyzing information and evaluating results to choose the best solution and solve problems.\n",
      "69\n",
      "Developing Objectives and Strategies — Establishing long-range objectives and specifying the strategies and actions to achieve them.\n",
      "67\n",
      "Judging the Qualities of Things, Services, or People — Assessing the value, importance, or quality of things or people.\n",
      "67\n",
      "Organizing, Planning, and Prioritizing Work — Developing specific goals and plans to prioritize, organize, and accomplish your work.\n",
      "65\n",
      "Communicating with Supervisors, Peers, or Subordinates — Providing information to supervisors, co-workers, and subordinates by telephone, in written form, e-mail, or in person.\n",
      "62\n",
      "Interpreting the Meaning of Information for Others — Translating or explaining what information means and how it can be used.\n",
      "61\n",
      "Performing General Physical Activities — Performing physical activities that require considerable use of your arms and legs and moving your whole body, such as climbing, lifting, balancing, walking, stooping, and handling of materials.\n",
      "60\n",
      "Scheduling Work and Activities — Scheduling events, programs, and activities, as well as the work of others.\n",
      "59\n",
      "Identifying Objects, Actions, and Events — Identifying information by categorizing, estimating, recognizing differences or similarities, and detecting changes in circumstances or events.\n",
      "57\n",
      "Developing and Building Teams — Encouraging and building mutual trust, respect, and cooperation among team members.\n",
      "55\n",
      "Communicating with Persons Outside Organization — Communicating with people outside the organization, representing the organization to customers, the public, government, and other external sources. This information can be exchanged in person, in writing, or by telephone or e-mail.\n",
      "52\n",
      "Coordinating the Work and Activities of Others — Getting members of a group to work together to accomplish tasks.\n",
      "49\n",
      "Resolving Conflicts and Negotiating with Others — Handling complaints, settling disputes, and resolving grievances and conflicts, or otherwise negotiating with others.\n",
      "48\n",
      "Documenting/Recording Information — Entering, transcribing, recording, storing, or maintaining information in written or electronic/magnetic form.\n",
      "47\n",
      "Updating and Using Relevant Knowledge — Keeping up-to-date technically and applying new knowledge to your job.\n",
      "45\n",
      "Coaching and Developing Others — Identifying the developmental needs of others and coaching, mentoring, or otherwise helping others to improve their knowledge or skills.\n",
      "44\n",
      "Monitor Processes, Materials, or Surroundings — Monitoring and reviewing information from materials, events, or the environment, to detect or assess problems.\n",
      "42\n",
      "Training and Teaching Others — Identifying the educational needs of others, developing formal educational or training programs or classes, and teaching or instructing others.\n",
      "41\n",
      "Assisting and Caring for Others — Providing personal assistance, medical attention, emotional support, or other personal care to others such as coworkers, customers, or patients.\n",
      "40\n",
      "Handling and Moving Objects — Using hands and arms in handling, installing, positioning, and moving materials, and manipulating things.\n",
      "39\n",
      "Selling or Influencing Others — Convincing others to buy merchandise/goods or to otherwise change their minds or actions.\n",
      "31\n",
      "Analyzing Data or Information — Identifying the underlying principles, reasons, or facts of information by breaking down information or data into separate parts.\n",
      "28\n",
      "Guiding, Directing, and Motivating Subordinates — Providing guidance and direction to subordinates, including setting performance standards and monitoring performance.\n",
      "   \n"
     ]
    }
   ],
   "source": [
    "print(element.text)"
   ]
  },
  {
   "cell_type": "code",
   "execution_count": 61,
   "id": "b7515c58-5e6d-4327-a57f-56e8905332fc",
   "metadata": {},
   "outputs": [
    {
     "name": "stderr",
     "output_type": "stream",
     "text": [
      "100%|██████████| 1110/1110 [1:07:30<00:00,  3.65s/it]\n"
     ]
    }
   ],
   "source": [
    "from tqdm import tqdm\n",
    "from selenium.webdriver.common.by import By\n",
    "\n",
    "count = 0\n",
    "for entry, hyperlink in tqdm(records.items(), total=len(records)):\n",
    "    count += 1\n",
    "    if count < 100:\n",
    "        continue  # Skipping first 100 entries\n",
    "\n",
    "    entry = entry.replace(\"/\", \" or \")  # Avoid issues with file names\n",
    "    result = \"\"\n",
    "    xpath = \"/html/body/table/tbody/tr[2]/td/table/tbody/tr[2]/td/center/table/tbody/tr[1]/td[3]/table/tbody/tr[4]\"\n",
    "\n",
    "    # Scrape description page\n",
    "    driver.get(hyperlink.split(\"?\")[0].replace(\"summary\", \"description\"))\n",
    "    element = driver.find_element(By.XPATH, xpath)\n",
    "    result += element.text + \"\\n\\n\"\n",
    "\n",
    "    # Scrape requirements page\n",
    "    driver.get(hyperlink.split(\"?\")[0].replace(\"summary\", \"requirements\"))\n",
    "    element = driver.find_element(By.XPATH, xpath)\n",
    "    result += element.text  \n",
    "\n",
    "    # ✅ FIX: Save the file with UTF-8 encoding\n",
    "    with open(f\"../data/scraped/{entry}.txt\", \"w\", encoding=\"utf-8\") as file:\n",
    "        file.write(result)\n"
   ]
  },
  {
   "cell_type": "code",
   "execution_count": null,
   "id": "1dc65316-8348-4014-99b8-43e8517af74a",
   "metadata": {},
   "outputs": [],
   "source": []
  }
 ],
 "metadata": {
  "kernelspec": {
   "display_name": "Python 3 (ipykernel)",
   "language": "python",
   "name": "python3"
  },
  "language_info": {
   "codemirror_mode": {
    "name": "ipython",
    "version": 3
   },
   "file_extension": ".py",
   "mimetype": "text/x-python",
   "name": "python",
   "nbconvert_exporter": "python",
   "pygments_lexer": "ipython3",
   "version": "3.12.3"
  }
 },
 "nbformat": 4,
 "nbformat_minor": 5
}
